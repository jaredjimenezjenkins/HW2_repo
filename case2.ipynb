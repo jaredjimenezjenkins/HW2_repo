{
  "cells": [
    {
      "cell_type": "markdown",
      "metadata": {
        "id": "dnchZngChge4"
      },
      "source": [
        "<center><img src=\"https://github.com/DACSS-CSSmeths/guidelines/blob/main/pics/small_logo_ccs_meths.jpg?raw=true\" width=\"700\"></center>\n"
      ]
    },
    {
      "cell_type": "markdown",
      "metadata": {
        "id": "AhxMEoMZhge9"
      },
      "source": [
        "# PRE HOMEWORK"
      ]
    },
    {
      "cell_type": "markdown",
      "metadata": {
        "id": "8RpyoNJzhge_"
      },
      "source": [
        "# Case 2: Top People in Seattle\n",
        "\n",
        "<a target=\"_blank\" href=\"https://colab.research.google.com/github/DACSS-CSSmeths/Networks_intro/blob/main/case2.ipynb\">\n",
        "  <img src=\"https://colab.research.google.com/assets/colab-badge.svg\" alt=\"Open In Colab\"/>\n",
        "</a>\n",
        "\n",
        "I found a webpage about top people in Seattle:"
      ]
    },
    {
      "cell_type": "code",
      "execution_count": 1,
      "metadata": {
        "id": "4TbKB0rhhgfB",
        "outputId": "e98ba2ec-74da-4b08-b327-ad728c6d78e3",
        "colab": {
          "base_uri": "https://localhost:8080/",
          "height": 371
        }
      },
      "outputs": [
        {
          "output_type": "execute_result",
          "data": {
            "text/plain": [
              "<IPython.lib.display.IFrame at 0x7827b3f87c10>"
            ],
            "text/html": [
              "\n",
              "        <iframe\n",
              "            width=\"800\"\n",
              "            height=\"350\"\n",
              "            src=\"https://www.builtinseattle.com/2018/08/06/50-seattle-tech-twitter-accounts-to-follow\"\n",
              "            frameborder=\"0\"\n",
              "            allowfullscreen\n",
              "            \n",
              "        ></iframe>\n",
              "        "
            ]
          },
          "metadata": {},
          "execution_count": 1
        }
      ],
      "source": [
        "from IPython.display import IFrame\n",
        "IFrame('https://www.builtinseattle.com/2018/08/06/50-seattle-tech-twitter-accounts-to-follow', 800, 350)"
      ]
    },
    {
      "cell_type": "markdown",
      "metadata": {
        "id": "JnrqyoOXhgfE"
      },
      "source": [
        "We have the network as **edgelist**:"
      ]
    },
    {
      "cell_type": "code",
      "execution_count": 2,
      "metadata": {
        "id": "SHWt7EZLhgfF",
        "outputId": "063add79-904d-4cc5-d39d-6c1ffd66cc0f",
        "colab": {
          "base_uri": "https://localhost:8080/",
          "height": 371
        }
      },
      "outputs": [
        {
          "output_type": "execute_result",
          "data": {
            "text/plain": [
              "<IPython.lib.display.IFrame at 0x7827c8a22f10>"
            ],
            "text/html": [
              "\n",
              "        <iframe\n",
              "            width=\"800\"\n",
              "            height=\"350\"\n",
              "            src=\"https://docs.google.com/spreadsheets/d/e/2PACX-1vRcnvcCrg58H3YAjZpEcGIRa48JrOySKnh4k6q9_-ENWTGatWvS3RayQs6CNR36rJfvi8ld0PPI6Jko/pubhtml\"\n",
              "            frameborder=\"0\"\n",
              "            allowfullscreen\n",
              "            \n",
              "        ></iframe>\n",
              "        "
            ]
          },
          "metadata": {},
          "execution_count": 2
        }
      ],
      "source": [
        "IFrame('https://docs.google.com/spreadsheets/d/e/2PACX-1vRcnvcCrg58H3YAjZpEcGIRa48JrOySKnh4k6q9_-ENWTGatWvS3RayQs6CNR36rJfvi8ld0PPI6Jko/pubhtml', 800, 350)"
      ]
    },
    {
      "cell_type": "markdown",
      "metadata": {
        "id": "qFK5gsQ3hgfH"
      },
      "source": [
        "Following people on social media is a traditional example of an _asymmetric_ relationship.\n",
        "\n",
        "These data is on another Excel on GitHub:"
      ]
    },
    {
      "cell_type": "code",
      "source": [
        "import pandas as pd\n",
        "import networkx as nx"
      ],
      "metadata": {
        "id": "mxpc0T-wjYaJ"
      },
      "execution_count": 3,
      "outputs": []
    },
    {
      "cell_type": "code",
      "execution_count": 4,
      "metadata": {
        "id": "lqnHJJI8hgfI"
      },
      "outputs": [],
      "source": [
        "# link to GitHub\n",
        "linkGoogle=\"https://github.com/DACSS-CSSmeths/Networks_intro/raw/refs/heads/main/casesData/SeattleTopData.xlsx\""
      ]
    },
    {
      "cell_type": "code",
      "source": [
        "xls = pd.ExcelFile(linkGoogle)"
      ],
      "metadata": {
        "id": "XKp-eOSPjh3m"
      },
      "execution_count": 5,
      "outputs": []
    },
    {
      "cell_type": "code",
      "source": [
        "print(xls.sheet_names)"
      ],
      "metadata": {
        "id": "pHO0mocgocm-",
        "outputId": "59e1aeb2-f465-4fa9-8a02-082e2de42e00",
        "colab": {
          "base_uri": "https://localhost:8080/"
        }
      },
      "execution_count": 6,
      "outputs": [
        {
          "output_type": "stream",
          "name": "stdout",
          "text": [
            "['edges', 'attributes']\n"
          ]
        }
      ]
    },
    {
      "cell_type": "code",
      "source": [
        "edges_df = pd.read_excel(linkGoogle, sheet_name=\"edges\")"
      ],
      "metadata": {
        "id": "Vw8gNIKWpQoD"
      },
      "execution_count": 7,
      "outputs": []
    },
    {
      "cell_type": "code",
      "source": [
        "nodes_df = pd.read_excel(linkGoogle, sheet_name=\"attributes\")"
      ],
      "metadata": {
        "id": "qEArGxEapD8b"
      },
      "execution_count": 8,
      "outputs": []
    },
    {
      "cell_type": "code",
      "source": [
        "print(edges_df.head())\n",
        "print(edges_df.columns)"
      ],
      "metadata": {
        "id": "0kdJen9fWa_b",
        "outputId": "3a0678e5-8d0d-4ad5-a5a9-2b171f654847",
        "colab": {
          "base_uri": "https://localhost:8080/"
        }
      },
      "execution_count": 9,
      "outputs": [
        {
          "output_type": "stream",
          "name": "stdout",
          "text": [
            "        source          target  weight\n",
            "0  rachelerman    mattmcilwain       1\n",
            "1  rachelerman   DaveParkerSEA       1\n",
            "2  rachelerman      toddbishop       1\n",
            "3  rachelerman      ashannstew       1\n",
            "4  rachelerman  LeslieFeinzaig       1\n",
            "Index(['source', 'target', 'weight'], dtype='object')\n"
          ]
        }
      ]
    },
    {
      "cell_type": "code",
      "source": [
        "G = nx.DiGraph()"
      ],
      "metadata": {
        "id": "pIe6sT84pW4Q"
      },
      "execution_count": 10,
      "outputs": []
    },
    {
      "cell_type": "code",
      "source": [
        "G.add_weighted_edges_from(zip(edges_df['source'], edges_df['target'], edges_df['weight']))"
      ],
      "metadata": {
        "id": "uOfEG5mKpZLF"
      },
      "execution_count": 11,
      "outputs": []
    },
    {
      "cell_type": "code",
      "source": [
        "for _, row in nodes_df.iterrows():\n",
        "    node = row['name']\n",
        "    if node in G:\n",
        "        G.nodes[node][\"male\"] = row[\"male\"]\n",
        "        G.nodes[node][\"followers\"] = row[\"followers\"]"
      ],
      "metadata": {
        "id": "wKGa-9qepc7N"
      },
      "execution_count": 12,
      "outputs": []
    },
    {
      "cell_type": "code",
      "source": [
        "nx.write_graphml(G, \"SeattleTopNetwork.graphml\")"
      ],
      "metadata": {
        "id": "-Nun0W1hph8r"
      },
      "execution_count": 13,
      "outputs": []
    },
    {
      "cell_type": "code",
      "source": [
        "print(\"GraphML file saved successfully!\")"
      ],
      "metadata": {
        "id": "BuVSbUTHpozf",
        "outputId": "478b1a39-fb7f-4c2a-c249-0fd4785ed966",
        "colab": {
          "base_uri": "https://localhost:8080/"
        }
      },
      "execution_count": 14,
      "outputs": [
        {
          "output_type": "stream",
          "name": "stdout",
          "text": [
            "GraphML file saved successfully!\n"
          ]
        }
      ]
    },
    {
      "cell_type": "markdown",
      "metadata": {
        "id": "lA1oEujQhgfK"
      },
      "source": [
        "Prepare the right  network, including  the node attributes, and save (export) the network as a _graphml_ file."
      ]
    },
    {
      "cell_type": "markdown",
      "metadata": {
        "id": "cFGJgddNhgfL"
      },
      "source": [
        "__________\n",
        "\n",
        "Go back to the [INTRO](https://dacss-cssmeths.github.io/Networks_intro/)"
      ]
    }
  ],
  "metadata": {
    "hide_input": false,
    "kernelspec": {
      "display_name": "Python 3 (ipykernel)",
      "language": "python",
      "name": "python3"
    },
    "language_info": {
      "codemirror_mode": {
        "name": "ipython",
        "version": 3
      },
      "file_extension": ".py",
      "mimetype": "text/x-python",
      "name": "python",
      "nbconvert_exporter": "python",
      "pygments_lexer": "ipython3",
      "version": "3.10.16"
    },
    "colab": {
      "provenance": []
    }
  },
  "nbformat": 4,
  "nbformat_minor": 0
}