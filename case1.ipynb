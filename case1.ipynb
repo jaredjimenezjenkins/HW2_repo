{
 "cells": [
  {
   "cell_type": "markdown",
   "metadata": {},
   "source": [
    "<center><img src=\"https://github.com/DACSS-CSSmeths/guidelines/blob/main/pics/small_logo_ccs_meths.jpg?raw=true\" width=\"700\"></center>\n"
   ]
  },
  {
   "cell_type": "markdown",
   "metadata": {},
   "source": [
    "# PRE HOMEWORK"
   ]
  },
  {
   "cell_type": "markdown",
   "metadata": {},
   "source": [
    "# Case 1: Elites in Peru\n",
    "\n",
    "<a target=\"_blank\" href=\"https://colab.research.google.com/github/DACSS-CSSmeths/Networks_intro/blob/main/case1.ipynb\">\n",
    "  <img src=\"https://colab.research.google.com/assets/colab-badge.svg\" alt=\"Open In Colab\"/>\n",
    "</a>"
   ]
  },
  {
   "cell_type": "markdown",
   "metadata": {},
   "source": [
    "The network we are going to build is based on the relationships studied in this [paper](https://ideas.repec.org/a/eee/quaeco/v48y2008i2p263-273.html):\n",
    "\n",
    "<img src=\"https://github.com/DACSS-CSSmeths/Networks_intro/blob/main/pics/paper.png?raw=true\" width=\"500\">\n"
   ]
  },
  {
   "cell_type": "markdown",
   "metadata": {},
   "source": [
    "In that paper, Professor Figueroa shows this table, where 1 represents that both nodes (families) appear together at least once sitting in the same top company board. This is a good example of a _symmetric_ relationship. Notice the last column is an attribute:"
   ]
  },
  {
   "cell_type": "markdown",
   "metadata": {},
   "source": [
    "<img src=\"https://github.com/DACSS-CSSmeths/Networks_intro/blob/main/pics/dataRed.png?raw=true\" width=\"500\">"
   ]
  },
  {
   "cell_type": "markdown",
   "metadata": {},
   "source": [
    "This is an spreadsheet, with some modifications, representing the information above:"
   ]
  },
  {
   "cell_type": "code",
   "execution_count": 1,
   "metadata": {},
   "outputs": [
    {
     "data": {
      "text/html": [
       "\n",
       "        <iframe\n",
       "            width=\"1200\"\n",
       "            height=\"350\"\n",
       "            src=\"https://docs.google.com/spreadsheets/d/e/2PACX-1vSHI_TY6rh9zEctvxnk83Vg88m1uXAEPA9DYT__TYOt5eS2mFovlraOXkaUcV8YZhbU30u34NfaMpY1/pubhtml\"\n",
       "            frameborder=\"0\"\n",
       "            allowfullscreen\n",
       "            \n",
       "        ></iframe>\n",
       "        "
      ],
      "text/plain": [
       "<IPython.lib.display.IFrame at 0x108692bc0>"
      ]
     },
     "execution_count": 1,
     "metadata": {},
     "output_type": "execute_result"
    }
   ],
   "source": [
    "from IPython.display import IFrame\n",
    "IFrame(\"https://docs.google.com/spreadsheets/d/e/2PACX-1vSHI_TY6rh9zEctvxnk83Vg88m1uXAEPA9DYT__TYOt5eS2mFovlraOXkaUcV8YZhbU30u34NfaMpY1/pubhtml\",1200,350)"
   ]
  },
  {
   "cell_type": "markdown",
   "metadata": {},
   "source": [
    "The modifications are:\n",
    "* I do not have \"1\"s in the diagonal (now Romero and Romero have no 1 in the intersection). This is the right way.\n",
    "* I put the the column with the attribute \"Multinacional\" in another sheet."
   ]
  },
  {
   "cell_type": "markdown",
   "metadata": {},
   "source": [
    "We can download the **adjacency** from my Excel file from GitHub:"
   ]
  },
  {
   "cell_type": "code",
   "execution_count": 2,
   "metadata": {},
   "outputs": [],
   "source": [
    "# reading in\n",
    "import pandas as pd\n",
    "LinkToData=\"https://github.com/DACSS-CSSmeths/Networks_intro/raw/refs/heads/main/casesData/dataFigueroa.xlsx\"\n",
    "FigueData = pd.read_excel(LinkToData,sheet_name='Relationships',\n",
    "                          index_col=0) #notice!!!!!"
   ]
  },
  {
   "cell_type": "markdown",
   "metadata": {},
   "source": [
    "We also have get the table with attributes:"
   ]
  },
  {
   "cell_type": "code",
   "execution_count": 3,
   "metadata": {},
   "outputs": [],
   "source": [
    "FigueAttr = pd.read_excel(LinkToData,sheet_name='Attributes')"
   ]
  },
  {
   "cell_type": "markdown",
   "metadata": {},
   "source": [
    "Prepare the right (directed or undirected?) network, including  the node attributes, and save (export) the network as a _graphml_ file.\n",
    "\n",
    "__________\n",
    "\n",
    "Go back to the [INTRO](https://dacss-cssmeths.github.io/Networks_intro/)"
   ]
  }
 ],
 "metadata": {
  "hide_input": false,
  "kernelspec": {
   "display_name": "Python 3 (ipykernel)",
   "language": "python",
   "name": "python3"
  },
  "language_info": {
   "codemirror_mode": {
    "name": "ipython",
    "version": 3
   },
   "file_extension": ".py",
   "mimetype": "text/x-python",
   "name": "python",
   "nbconvert_exporter": "python",
   "pygments_lexer": "ipython3",
   "version": "3.10.16"
  }
 },
 "nbformat": 4,
 "nbformat_minor": 4
}
