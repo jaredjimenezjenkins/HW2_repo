{
  "cells": [
    {
      "cell_type": "markdown",
      "metadata": {
        "id": "yAgiphFeVlxh"
      },
      "source": [
        "<center><img src=\"https://github.com/DACSS-CSSmeths/guidelines/blob/main/pics/small_logo_ccs_meths.jpg?raw=true\" width=\"700\"></center>\n"
      ]
    },
    {
      "cell_type": "markdown",
      "metadata": {
        "id": "ndi7hS5sVlxl"
      },
      "source": [
        "# PRE HOMEWORK"
      ]
    },
    {
      "cell_type": "markdown",
      "metadata": {
        "id": "-uIloqxxVlxn"
      },
      "source": [
        "# Case 1: Elites in Peru\n",
        "\n",
        "<a target=\"_blank\" href=\"https://colab.research.google.com/github/DACSS-CSSmeths/Networks_intro/blob/main/case1.ipynb\">\n",
        "  <img src=\"https://colab.research.google.com/assets/colab-badge.svg\" alt=\"Open In Colab\"/>\n",
        "</a>"
      ]
    },
    {
      "cell_type": "markdown",
      "metadata": {
        "id": "G5cQxYl6Vlxo"
      },
      "source": [
        "The network we are going to build is based on the relationships studied in this [paper](https://ideas.repec.org/a/eee/quaeco/v48y2008i2p263-273.html):\n",
        "\n",
        "<img src=\"https://github.com/DACSS-CSSmeths/Networks_intro/blob/main/pics/paper.png?raw=true\" width=\"500\">\n"
      ]
    },
    {
      "cell_type": "markdown",
      "metadata": {
        "id": "S6cvL2kbVlxp"
      },
      "source": [
        "In that paper, Professor Figueroa shows this table, where 1 represents that both nodes (families) appear together at least once sitting in the same top company board. This is a good example of a _symmetric_ relationship. Notice the last column is an attribute:"
      ]
    },
    {
      "cell_type": "markdown",
      "metadata": {
        "id": "IaMdF5c3Vlxq"
      },
      "source": [
        "<img src=\"https://github.com/DACSS-CSSmeths/Networks_intro/blob/main/pics/dataRed.png?raw=true\" width=\"500\">"
      ]
    },
    {
      "cell_type": "markdown",
      "metadata": {
        "id": "BuVGXL-yVlxr"
      },
      "source": [
        "This is an spreadsheet, with some modifications, representing the information above:"
      ]
    },
    {
      "cell_type": "code",
      "execution_count": 1,
      "metadata": {
        "id": "xffytbLOVlxs",
        "outputId": "9889c4c8-3841-4244-9d54-24c8d37c2361",
        "colab": {
          "base_uri": "https://localhost:8080/",
          "height": 391
        }
      },
      "outputs": [
        {
          "output_type": "execute_result",
          "data": {
            "text/plain": [
              "<IPython.lib.display.IFrame at 0x7dd657553950>"
            ],
            "text/html": [
              "\n",
              "        <iframe\n",
              "            width=\"1200\"\n",
              "            height=\"350\"\n",
              "            src=\"https://docs.google.com/spreadsheets/d/e/2PACX-1vSHI_TY6rh9zEctvxnk83Vg88m1uXAEPA9DYT__TYOt5eS2mFovlraOXkaUcV8YZhbU30u34NfaMpY1/pubhtml\"\n",
              "            frameborder=\"0\"\n",
              "            allowfullscreen\n",
              "            \n",
              "        ></iframe>\n",
              "        "
            ]
          },
          "metadata": {},
          "execution_count": 1
        }
      ],
      "source": [
        "from IPython.display import IFrame\n",
        "IFrame(\"https://docs.google.com/spreadsheets/d/e/2PACX-1vSHI_TY6rh9zEctvxnk83Vg88m1uXAEPA9DYT__TYOt5eS2mFovlraOXkaUcV8YZhbU30u34NfaMpY1/pubhtml\",1200,350)"
      ]
    },
    {
      "cell_type": "markdown",
      "metadata": {
        "id": "EyYitQVrVlxu"
      },
      "source": [
        "The modifications are:\n",
        "* I do not have \"1\"s in the diagonal (now Romero and Romero have no 1 in the intersection). This is the right way.\n",
        "* I put the the column with the attribute \"Multinacional\" in another sheet."
      ]
    },
    {
      "cell_type": "markdown",
      "metadata": {
        "id": "aMWei7KrVlxv"
      },
      "source": [
        "We can download the **adjacency** from my Excel file from GitHub:"
      ]
    },
    {
      "cell_type": "code",
      "execution_count": 2,
      "metadata": {
        "id": "-QW0mH5IVlxv"
      },
      "outputs": [],
      "source": [
        "# reading in\n",
        "import pandas as pd\n",
        "LinkToData=\"https://github.com/DACSS-CSSmeths/Networks_intro/raw/refs/heads/main/casesData/dataFigueroa.xlsx\"\n",
        "FigueData = pd.read_excel(LinkToData,sheet_name='Relationships',\n",
        "                          index_col=0) #notice!!!!!"
      ]
    },
    {
      "cell_type": "code",
      "source": [
        "import pandas as pd\n",
        "import networkx as nx"
      ],
      "metadata": {
        "id": "1tzclPy8V6vS"
      },
      "execution_count": 3,
      "outputs": []
    },
    {
      "cell_type": "markdown",
      "metadata": {
        "id": "dqkxrYIaVlxw"
      },
      "source": [
        "We also have get the table with attributes:"
      ]
    },
    {
      "cell_type": "code",
      "execution_count": 4,
      "metadata": {
        "id": "8Q3Y9HpHVlxw"
      },
      "outputs": [],
      "source": [
        "FigueAttr = pd.read_excel(LinkToData,sheet_name='Attributes')"
      ]
    },
    {
      "cell_type": "code",
      "source": [
        "print(FigueAttr.columns)"
      ],
      "metadata": {
        "id": "Kv9g-K3xW3_R",
        "outputId": "99efd01a-de9d-4358-b9a0-4d75bbc6f35b",
        "colab": {
          "base_uri": "https://localhost:8080/"
        }
      },
      "execution_count": 5,
      "outputs": [
        {
          "output_type": "stream",
          "name": "stdout",
          "text": [
            "Index(['node', 'Multinacional'], dtype='object')\n"
          ]
        }
      ]
    },
    {
      "cell_type": "code",
      "source": [
        "FigueAttr.set_index('node', inplace=True)"
      ],
      "metadata": {
        "id": "2zHJoOaRXIx0"
      },
      "execution_count": 6,
      "outputs": []
    },
    {
      "cell_type": "code",
      "source": [
        "G = nx.from_pandas_adjacency(FigueData)"
      ],
      "metadata": {
        "id": "Kub_dN2NXUW8"
      },
      "execution_count": 7,
      "outputs": []
    },
    {
      "cell_type": "code",
      "source": [
        "for node in G.nodes():\n",
        "  if node in FigueAttr.index:\n",
        "    G.nodes[node]['Multinacional'] = FigueAttr.loc[node, 'Multinacional']"
      ],
      "metadata": {
        "id": "3B2b-g02Xh9y"
      },
      "execution_count": 8,
      "outputs": []
    },
    {
      "cell_type": "code",
      "source": [
        "nx.write_graphml(G, \"peru_elites.graphml\")"
      ],
      "metadata": {
        "id": "BbZzcTynX_bB"
      },
      "execution_count": 9,
      "outputs": []
    },
    {
      "cell_type": "code",
      "source": [
        "print(\"Graph succesfully created and saved as 'peru_elites.graphml'.\")"
      ],
      "metadata": {
        "id": "yVWFjnqBYdy3",
        "outputId": "39866cfe-69e7-478d-f39d-36f41fa592ef",
        "colab": {
          "base_uri": "https://localhost:8080/"
        }
      },
      "execution_count": 10,
      "outputs": [
        {
          "output_type": "stream",
          "name": "stdout",
          "text": [
            "Graph succesfully created and saved as 'peru_elites.graphml'.\n"
          ]
        }
      ]
    },
    {
      "cell_type": "markdown",
      "metadata": {
        "id": "EDDlg83SVlxx"
      },
      "source": [
        "Prepare the right (directed or undirected?) network, including  the node attributes, and save (export) the network as a _graphml_ file.\n",
        "\n",
        "__________\n",
        "\n",
        "Go back to the [INTRO](https://dacss-cssmeths.github.io/Networks_intro/)"
      ]
    }
  ],
  "metadata": {
    "hide_input": false,
    "kernelspec": {
      "display_name": "Python 3 (ipykernel)",
      "language": "python",
      "name": "python3"
    },
    "language_info": {
      "codemirror_mode": {
        "name": "ipython",
        "version": 3
      },
      "file_extension": ".py",
      "mimetype": "text/x-python",
      "name": "python",
      "nbconvert_exporter": "python",
      "pygments_lexer": "ipython3",
      "version": "3.10.16"
    },
    "colab": {
      "provenance": []
    }
  },
  "nbformat": 4,
  "nbformat_minor": 0
}